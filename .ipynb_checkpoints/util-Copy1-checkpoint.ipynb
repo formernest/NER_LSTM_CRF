{
 "cells": [
  {
   "cell_type": "code",
   "execution_count": null,
   "metadata": {},
   "outputs": [],
   "source": [
    "file_path = './example.train'\n",
    "words = list()\n",
    "tags = list()\n",
    "with open(file_path) as f:\n",
    "    for line in f:\n",
    "        line = line.strip()\n",
    "        if line is not '':\n",
    "            sents = line.split()\n",
    "            words.append(sents[0])\n",
    "            tags.append(sents[1])\n",
    "words = list(set(words))\n",
    "tags = list(set(tags))\n",
    "print(len(words))\n",
    "print(len(tags))"
   ]
  },
  {
   "cell_type": "code",
   "execution_count": null,
   "metadata": {},
   "outputs": [],
   "source": [
    "file_path = './example.train'\n",
    "write_path = './train'\n",
    "wf = open(write_path, 'a')\n",
    "words = list()\n",
    "tags = list()\n",
    "with open(file_path) as f:\n",
    "    for line in f:\n",
    "        line = line.strip()\n",
    "        if line is not '':\n",
    "            sents = line.split()\n",
    "            words.append(sents[0])\n",
    "            tags.append(sents[1])\n",
    "            # if 'LOC' in sents[1]:\n",
    "            #     sents[1] = 'O'\n",
    "            s = sents[0] + ' ' + sents[1] + '\\n'\n",
    "            wf.write(s)\n",
    "words = list(set(words))\n",
    "tags = list(set(tags))\n",
    "print(tags)\n",
    "print(len(tags))"
   ]
  }
 ],
 "metadata": {
  "kernelspec": {
   "display_name": "Python 3",
   "language": "python",
   "name": "python3"
  },
  "language_info": {
   "codemirror_mode": {
    "name": "ipython",
    "version": 3
   },
   "file_extension": ".py",
   "mimetype": "text/x-python",
   "name": "python",
   "nbconvert_exporter": "python",
   "pygments_lexer": "ipython3",
   "version": "3.6.4"
  }
 },
 "nbformat": 4,
 "nbformat_minor": 2
}
