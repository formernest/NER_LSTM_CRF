{
 "cells": [
  {
   "cell_type": "code",
   "execution_count": 13,
   "metadata": {},
   "outputs": [
    {
     "name": "stdout",
     "output_type": "stream",
     "text": [
      "1066490\n",
      "4797\n",
      "7\n"
     ]
    }
   ],
   "source": [
    "file_path = './train'\n",
    "words = list()\n",
    "tags = list()\n",
    "with open(file_path) as f:\n",
    "    for line in f:\n",
    "        line = line.strip()\n",
    "        if line is not '':\n",
    "            sents = line.split()\n",
    "            words.append(sents[0])\n",
    "            tags.append(sents[1])\n",
    "print(len(words))\n",
    "words = list(set(words))\n",
    "tags = list(set(tags))\n",
    "print(len(words))\n",
    "print(len(tags))"
   ]
  },
  {
   "cell_type": "code",
   "execution_count": 11,
   "metadata": {},
   "outputs": [
    {
     "name": "stdout",
     "output_type": "stream",
     "text": [
      "979180\n",
      "['I-PER', 'I-LOC', 'I-ORG', 'B-LOC', 'O', 'B-ORG', 'B-PER']\n",
      "7\n"
     ]
    }
   ],
   "source": [
    "file_path = './example.train'\n",
    "write_path = './train'\n",
    "wf = open(write_path, 'a')\n",
    "words = list()\n",
    "tags = list()\n",
    "with open(file_path) as f:\n",
    "    for line in f:\n",
    "        line = line.strip()\n",
    "        if line is not '':\n",
    "            sents = line.split()\n",
    "            words.append(sents[0])\n",
    "            tags.append(sents[1])\n",
    "#             if 'LOC' in sents[1]:\n",
    "#                 sents[1] = 'O'\n",
    "            s = sents[0] + ' ' + sents[1] + '\\n'\n",
    "            wf.write(s)\n",
    "print(len(words))\n",
    "words = list(set(words))\n",
    "tags = list(set(tags))\n",
    "print(tags)\n",
    "print(len(tags))"
   ]
  },
  {
   "cell_type": "code",
   "execution_count": 3,
   "metadata": {},
   "outputs": [
    {
     "name": "stdout",
     "output_type": "stream",
     "text": [
      "20864\n",
      "20864\n"
     ]
    }
   ],
   "source": [
    "file_path = './example.train'\n",
    "write_path = './train1'\n",
    "wf = open(write_path, 'w+')\n",
    "datas_all = list()\n",
    "labels_all = list()\n",
    "with open(file_path) as f:\n",
    "    words = []\n",
    "    tags = []\n",
    "    for line in f:\n",
    "        line = line.strip()\n",
    "        if line is not '':\n",
    "            sents = line.split()\n",
    "            words.append(sents[0])\n",
    "#             if 'LOC' in sents[1]:\n",
    "#                 sents[1] = 'O'\n",
    "#             sents[1].replace('GPE','LOC')\n",
    "            tags.append(sents[1])\n",
    "        else:\n",
    "            if len(words) == len(tags):\n",
    "                datas_all.append(words)\n",
    "                labels_all.append(tags)\n",
    "                s = ' '.join(words)+'\\t'+' '.join(tags)+'\\n'\n",
    "#                 print(s)\n",
    "                wf.write(s)\n",
    "            words = []\n",
    "            tags = []\n",
    "print(len(datas_all))\n",
    "print(len(labels_all))"
   ]
  },
  {
   "cell_type": "code",
   "execution_count": 14,
   "metadata": {},
   "outputs": [
    {
     "data": {
      "text/plain": [
       "1067469"
      ]
     },
     "execution_count": 14,
     "metadata": {},
     "output_type": "execute_result"
    }
   ],
   "source": [
    "979180+88289"
   ]
  },
  {
   "cell_type": "code",
   "execution_count": 6,
   "metadata": {},
   "outputs": [
    {
     "name": "stdout",
     "output_type": "stream",
     "text": [
      "1620\n",
      "1620\n"
     ]
    }
   ],
   "source": [
    "file_path = './train_data'\n",
    "write_path = './train2'\n",
    "wf = open(write_path, 'w+')\n",
    "datas_all = list()\n",
    "labels_all = list()\n",
    "with open(file_path) as f:\n",
    "    words = []\n",
    "    tags = []\n",
    "    for line in f:\n",
    "        line = line.strip()\n",
    "        if line is not '':\n",
    "            sents = line.split()\n",
    "            words.append(sents[0])\n",
    "            if 'LOC' in sents[1]:\n",
    "                sents[1] = 'O'\n",
    "            sentsen[1] = sents[1].replace('GPE','LOC')\n",
    "            tags.append(sentsen[1])\n",
    "        else:\n",
    "            if len(words) == len(tags):\n",
    "                datas_all.append(words)\n",
    "                labels_all.append(tags)\n",
    "                s = ' '.join(words)+'\\t'+' '.join(tags)+'\\n'\n",
    "#                 print(s)\n",
    "                wf.write(s)\n",
    "            words = []\n",
    "            tags = []\n",
    "print(len(datas_all))\n",
    "print(len(labels_all))"
   ]
  },
  {
   "cell_type": "code",
   "execution_count": 7,
   "metadata": {},
   "outputs": [],
   "source": [
    "files = ['./train1', './train2']\n",
    "outpath = './train'\n",
    "wf = open(outpath, 'w')\n",
    "for file in files:\n",
    "    with open(file) as f:\n",
    "        for line in f:\n",
    "            wf.write(line)\n",
    "\n",
    "    "
   ]
  },
  {
   "cell_type": "code",
   "execution_count": 8,
   "metadata": {},
   "outputs": [
    {
     "name": "stdout",
     "output_type": "stream",
     "text": [
      "{1, 2, 3, 4}\n"
     ]
    }
   ],
   "source": [
    "set1 = set()\n",
    "set2 = set([1,2,3,4])\n",
    "print(set1.union(set2))"
   ]
  },
  {
   "cell_type": "code",
   "execution_count": null,
   "metadata": {},
   "outputs": [],
   "source": []
  }
 ],
 "metadata": {
  "kernelspec": {
   "display_name": "Python 3",
   "language": "python",
   "name": "python3"
  },
  "language_info": {
   "codemirror_mode": {
    "name": "ipython",
    "version": 3
   },
   "file_extension": ".py",
   "mimetype": "text/x-python",
   "name": "python",
   "nbconvert_exporter": "python",
   "pygments_lexer": "ipython3",
   "version": "3.6.4"
  }
 },
 "nbformat": 4,
 "nbformat_minor": 2
}
